{
 "cells": [
  {
   "cell_type": "code",
   "execution_count": 3,
   "metadata": {},
   "outputs": [
    {
     "name": "stdout",
     "output_type": "stream",
     "text": [
      "Enter Math Marks : 88\n",
      "Enter English Marks : 78\n",
      "Enter Urdu Marks : 75\n",
      "Enter Physics Marks : 66\n",
      "Enter Chemistry Marks : 70\n",
      "MARKS OBTAINED :  377\n",
      "PERCENTAGE IS  :  75.4\n",
      "GRADE A\n"
     ]
    }
   ],
   "source": [
    "#ASSIGNMENT#2 Q :1\n",
    "math = int(input(\"Enter Math Marks : \"))\n",
    "eng = int(input(\"Enter English Marks : \"))\n",
    "urdu = int(input(\"Enter Urdu Marks : \"))\n",
    "phy = int(input(\"Enter Physics Marks : \"))\n",
    "chem = int(input(\"Enter Chemistry Marks : \"))\n",
    "total = math+eng+urdu+phy+chem\n",
    "print(\"MARKS OBTAINED : \" , total)\n",
    "per = (total/500)*100\n",
    "print(\"PERCENTAGE IS  : \",per)\n",
    "if(per>=80):\n",
    "    print(\"GRADE A+\")\n",
    "elif(per<=79 and per>=70):\n",
    "        print(\"GRADE A\")\n",
    "elif(per<=69 and per>=60):\n",
    "        print(\"GRADE B\")\n",
    "elif(per<60):\n",
    "        print(\"GRADE F\")\n",
    "else:\n",
    "        print(\"INVALID\")\n",
    "        \n",
    "    "
   ]
  },
  {
   "cell_type": "code",
   "execution_count": 4,
   "metadata": {},
   "outputs": [
    {
     "name": "stdout",
     "output_type": "stream",
     "text": [
      "ENTER A NUMBER : 5\n",
      "Given Number Is Odd \n"
     ]
    }
   ],
   "source": [
    "#ASSIGNMENT#2 Q :2\n",
    "num = int(input(\"ENTER A NUMBER : \"))\n",
    "if(num%2==0):\n",
    "    print(\"Given Number Is Even \")\n",
    "else:\n",
    "    print(\"Given Number Is Odd \")\n",
    "    "
   ]
  },
  {
   "cell_type": "code",
   "execution_count": 7,
   "metadata": {},
   "outputs": [
    {
     "name": "stdout",
     "output_type": "stream",
     "text": [
      "[1, 1, 2, 3, 5, 9, 13, 21, 34, 55, 89]\n",
      "List Lenght :  11\n"
     ]
    }
   ],
   "source": [
    "#ASSIGNMENT#2 Q :3\n",
    "a = [1, 1, 2 , 3 , 5 , 9, 13 , 21 , 34 , 55 , 89]\n",
    "print(a)\n",
    "print(\"List Lenght : \" , len(a))\n"
   ]
  },
  {
   "cell_type": "code",
   "execution_count": 10,
   "metadata": {},
   "outputs": [
    {
     "name": "stdout",
     "output_type": "stream",
     "text": [
      "Sum Is :  236\n"
     ]
    }
   ],
   "source": [
    "#ASSIGNMENT#2 Q :4\n",
    "x = [1, 1, 2 , 3 , 5 , 9 , 15 , 21 , 35 , 55 , 89]\n",
    "print(\"Sum Is : \" , sum(x))"
   ]
  },
  {
   "cell_type": "code",
   "execution_count": 11,
   "metadata": {},
   "outputs": [
    {
     "name": "stdout",
     "output_type": "stream",
     "text": [
      "The Largest No. Is :  90\n"
     ]
    }
   ],
   "source": [
    "#ASSIGNMENT#2 Q :5\n",
    "z = [1, 1, 2 , 3 , 5 , 8 , 14 , 25 , 35 , 65 , 90]\n",
    "print(\"The Largest No. Is : \" , max(z))\n"
   ]
  },
  {
   "cell_type": "code",
   "execution_count": 12,
   "metadata": {},
   "outputs": [
    {
     "name": "stdout",
     "output_type": "stream",
     "text": [
      "[1, 1, 2, 3]\n"
     ]
    }
   ],
   "source": [
    "#ASSIGNMENT#2 Q :6\n",
    "x = [1, 1, 2 , 3 , 5 , 9 , 15 , 21 , 35 , 55 , 89]\n",
    "x=[i for i in a if i <5]\n",
    "print(x)"
   ]
  },
  {
   "cell_type": "code",
   "execution_count": null,
   "metadata": {},
   "outputs": [],
   "source": []
  }
 ],
 "metadata": {
  "kernelspec": {
   "display_name": "Python 3",
   "language": "python",
   "name": "python3"
  },
  "language_info": {
   "codemirror_mode": {
    "name": "ipython",
    "version": 3
   },
   "file_extension": ".py",
   "mimetype": "text/x-python",
   "name": "python",
   "nbconvert_exporter": "python",
   "pygments_lexer": "ipython3",
   "version": "3.7.4"
  }
 },
 "nbformat": 4,
 "nbformat_minor": 2
}
