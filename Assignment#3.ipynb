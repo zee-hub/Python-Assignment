{
 "cells": [
  {
   "cell_type": "code",
   "execution_count": 1,
   "metadata": {},
   "outputs": [
    {
     "name": "stdout",
     "output_type": "stream",
     "text": [
      "Enter 1st Number2\n",
      "Enter 2nd Number3\n",
      "Enter operator (+,-,*,/,^): ^\n",
      "2 ^ 3 = 8\n"
     ]
    }
   ],
   "source": [
    "##ASSIGNMENT#3 Q1\n",
    "num1 = int(input(\"Enter 1st Number\"))\n",
    "num2 = int(input(\"Enter 2nd Number\"))\n",
    "ch = input(\"Enter operator (+,-,*,/,^): \")\n",
    "\n",
    "if ch == '+':\n",
    "    res = int(num1) + int(num2);\n",
    "    print(num1, \"+\", num2, \"=\", res)\n",
    "elif ch == '-':\n",
    "    res = int(num1) - int(num2)\n",
    "    print(num1, \"-\", num2, \"=\", res)\n",
    "elif ch == '*':\n",
    "    res = int(num1) * int(num2);\n",
    "    print(num1, \"*\", num2, \"=\", res)\n",
    "elif ch == '/':\n",
    "    res = int(num1) / int(num2)\n",
    "    print(num1, \"/\", num2, \"=\", res)\n",
    "elif ch == '^':\n",
    "    res = num1 ** num2\n",
    "    print(num1, \"^\", num2, \"=\", res)  \n",
    "else:\n",
    "    print(\"Enter Operator.\")"
   ]
  },
  {
   "cell_type": "code",
   "execution_count": 4,
   "metadata": {},
   "outputs": [
    {
     "name": "stdout",
     "output_type": "stream",
     "text": [
      "Numeric value found : 3\n"
     ]
    }
   ],
   "source": [
    "##ASSIGNMENT#3 Q2\n",
    "list_in_loop = [\"Muhammad Zeeshan\",  3, \"Python\"]\n",
    "for value in list_in_loop:\n",
    "    if type(value) == int or type(value) == float:\n",
    "        print(f\"Numeric value found : {value}\")\n",
    "        break\n",
    "        "
   ]
  },
  {
   "cell_type": "code",
   "execution_count": 5,
   "metadata": {},
   "outputs": [
    {
     "name": "stdout",
     "output_type": "stream",
     "text": [
      "Key added\n"
     ]
    }
   ],
   "source": [
    "##ASSIGNMENT#3 Q3\n",
    "dic = {}\n",
    "dic[1] = \"Key added\"\n",
    "\n",
    "print(dic[1])"
   ]
  },
  {
   "cell_type": "code",
   "execution_count": 13,
   "metadata": {},
   "outputs": [
    {
     "name": "stdout",
     "output_type": "stream",
     "text": [
      "Sum 110.8\n"
     ]
    }
   ],
   "source": [
    "##ASSIGNMENT#3 Q4\n",
    "result = 0\n",
    "dic = {1: 2 , 2: \"Zeeshan\", 3: 8.8, 4:\"Not numerical\",5: 100}\n",
    "\n",
    "for value in dic.values():\n",
    "    if type(value) == int or type(value) == float:\n",
    "        result = result + value        \n",
    "        \n",
    "print(\"Sum\", result)"
   ]
  },
  {
   "cell_type": "code",
   "execution_count": 15,
   "metadata": {},
   "outputs": [
    {
     "name": "stdout",
     "output_type": "stream",
     "text": [
      "Duplicated 1\n",
      "Duplicated 1\n",
      "Duplicated 0.4\n",
      "Duplicated 0.4\n"
     ]
    }
   ],
   "source": [
    "##ASSIGNMENT#3 Q5\n",
    "the_list = [\"Python\", \"Assignment\", 1, 1, 0.4, 0.4, 2, 3, 4, 5, 6]\n",
    "for value in the_list:\n",
    "    if  the_list.count(value) > 1:\n",
    "         print(f\"Duplicated {value}\")\n"
   ]
  },
  {
   "cell_type": "code",
   "execution_count": 16,
   "metadata": {},
   "outputs": [
    {
     "name": "stdout",
     "output_type": "stream",
     "text": [
      "4 Already Given\n"
     ]
    }
   ],
   "source": [
    "##ASSIGNMENT#3 Q6\n",
    "dic = { 1: \"key 1\", 2: \"key 2\", 3: \"key 3\",  4: \"key 4\"}\n",
    "given_key = 4\n",
    "\n",
    "for key in dic.keys():\n",
    "    if key == given_key:\n",
    "        print(f\"{given_key} Already Given\")"
   ]
  },
  {
   "cell_type": "code",
   "execution_count": null,
   "metadata": {},
   "outputs": [],
   "source": []
  }
 ],
 "metadata": {
  "kernelspec": {
   "display_name": "Python 3",
   "language": "python",
   "name": "python3"
  },
  "language_info": {
   "codemirror_mode": {
    "name": "ipython",
    "version": 3
   },
   "file_extension": ".py",
   "mimetype": "text/x-python",
   "name": "python",
   "nbconvert_exporter": "python",
   "pygments_lexer": "ipython3",
   "version": "3.7.4"
  }
 },
 "nbformat": 4,
 "nbformat_minor": 2
}
